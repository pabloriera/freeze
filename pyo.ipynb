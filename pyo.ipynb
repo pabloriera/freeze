{
 "cells": [
  {
   "cell_type": "code",
   "execution_count": 1,
   "metadata": {
    "collapsed": false
   },
   "outputs": [
    {
     "name": "stdout",
     "output_type": "stream",
     "text": [
      "pyo version 0.8.0 (uses single precision)\n"
     ]
    }
   ],
   "source": [
    "from pyo import *"
   ]
  },
  {
   "cell_type": "code",
   "execution_count": 2,
   "metadata": {
    "collapsed": true
   },
   "outputs": [],
   "source": [
    "s = Server().boot()\n",
    "s.start()\n",
    "snd = SndTable(\"/home/miles/Software/freeze/wavs/Reich_Music18.wav\")\n",
    "env = HannTable()\n",
    "pos = Phasor(freq=snd.getRate()*.25, mul=snd.getSize())\n",
    "dur = Noise(mul=.001, add=.1)\n",
    "g = Granulator(snd, env, [1, 1.001], pos, dur, 32, mul=.1).out()"
   ]
  },
  {
   "cell_type": "code",
   "execution_count": null,
   "metadata": {
    "collapsed": true
   },
   "outputs": [],
   "source": [
    "s.gui(locals())"
   ]
  }
 ],
 "metadata": {
  "kernelspec": {
   "display_name": "Python 2",
   "language": "python",
   "name": "python2"
  },
  "language_info": {
   "codemirror_mode": {
    "name": "ipython",
    "version": 2
   },
   "file_extension": ".py",
   "mimetype": "text/x-python",
   "name": "python",
   "nbconvert_exporter": "python",
   "pygments_lexer": "ipython2",
   "version": "2.7.6"
  }
 },
 "nbformat": 4,
 "nbformat_minor": 0
}
