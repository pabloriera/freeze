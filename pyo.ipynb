{
 "cells": [
  {
   "cell_type": "markdown",
   "metadata": {},
   "source": [
    "## Granular example"
   ]
  },
  {
   "cell_type": "code",
   "execution_count": 1,
   "metadata": {
    "collapsed": false
   },
   "outputs": [],
   "source": [
    "from pyo import *\n",
    "s = Server().boot()"
   ]
  },
  {
   "cell_type": "code",
   "execution_count": 2,
   "metadata": {
    "collapsed": false
   },
   "outputs": [],
   "source": [
    "s.start()\n",
    "snd = SndTable(\"wavs/Reich_Music18.wav\")\n",
    "env = HannTable()\n",
    "pos = Phasor(freq=snd.getRate()*.25, mul=snd.getSize())\n",
    "dur = Noise(mul=.001, add=.1)\n",
    "g = Granulator(snd, env, [1, 1.001], pos, dur, 32, mul=.1).out()"
   ]
  },
  {
   "cell_type": "code",
   "execution_count": null,
   "metadata": {
    "collapsed": true
   },
   "outputs": [],
   "source": [
    "s.gui(locals())"
   ]
  },
  {
   "cell_type": "code",
   "execution_count": 3,
   "metadata": {
    "collapsed": true
   },
   "outputs": [],
   "source": [
    "s.stop()"
   ]
  },
  {
   "cell_type": "markdown",
   "metadata": {},
   "source": [
    "## Midi controller"
   ]
  },
  {
   "cell_type": "code",
   "execution_count": 1,
   "metadata": {
    "collapsed": false
   },
   "outputs": [
    {
     "name": "stdout",
     "output_type": "stream",
     "text": [
      "(['Midi Through Port-0', 'nanoKONTROL2 MIDI 1', 'Pure Data Midi-Out 1', 'Pure Data Midi-Out 2'], [1, 3, 6, 7])\n"
     ]
    }
   ],
   "source": [
    "from pyo import *\n",
    "names, indexes = pm_get_input_devices()\n",
    "print(names,indexes)"
   ]
  },
  {
   "cell_type": "code",
   "execution_count": 2,
   "metadata": {
    "collapsed": false
   },
   "outputs": [],
   "source": [
    "s = Server()"
   ]
  },
  {
   "cell_type": "code",
   "execution_count": 3,
   "metadata": {
    "collapsed": false
   },
   "outputs": [
    {
     "data": {
      "text/plain": [
       "<pyolib.server.Server at 0x7f732830aa50>"
      ]
     },
     "execution_count": 3,
     "metadata": {},
     "output_type": "execute_result"
    }
   ],
   "source": [
    "s.setMidiInputDevice(3) # Must be called before s.boot()\n",
    "s.boot()\n",
    "s.start()"
   ]
  },
  {
   "cell_type": "code",
   "execution_count": null,
   "metadata": {
    "collapsed": false
   },
   "outputs": [],
   "source": [
    "m = Midictl(ctlnumber=[0], minscale=250, maxscale=1000)\n",
    "p = Port(m, .02)\n",
    "a = Sine(freq=p, mul=.3).out()\n",
    "a1 = Sine(freq=p*1.25, mul=.3).out()\n",
    "a2 = Sine(freq=p*1.5, mul=.3).out()"
   ]
  },
  {
   "cell_type": "code",
   "execution_count": 8,
   "metadata": {
    "collapsed": false
   },
   "outputs": [],
   "source": [
    "s.start()\n",
    "snd = SndTable(\"wavs/habla.wav\")\n",
    "env = HannTable()\n",
    "\n",
    "m = Midictl(ctlnumber=[0], minscale=0, maxscale=snd.getSize()/10.0)\n",
    "p = Port(m, .02)\n",
    "\n",
    "m2 = Midictl(ctlnumber=[16], minscale=0.5, maxscale=2.0)\n",
    "p2 = Port(m2, .02)\n",
    "\n",
    "m3 = Midictl(ctlnumber=[1], minscale=0.0, maxscale=1.0)\n",
    "p3 = Port(m3, .02)\n",
    "\n",
    "m4 = Midictl(ctlnumber=[17], minscale=0.0, maxscale=1.0)\n",
    "p4 = Port(m4, .02)\n",
    "\n",
    "\n",
    "dur = Noise(mul=p3, add=p4)\n",
    "g = Granulator(snd, env, [p2, p2], p , dur, 32, mul=.1).out()"
   ]
  },
  {
   "cell_type": "code",
   "execution_count": 7,
   "metadata": {
    "collapsed": true
   },
   "outputs": [],
   "source": [
    "s.stop()"
   ]
  },
  {
   "cell_type": "code",
   "execution_count": null,
   "metadata": {
    "collapsed": true
   },
   "outputs": [],
   "source": [
    "s.gui(locals())"
   ]
  },
  {
   "cell_type": "markdown",
   "metadata": {},
   "source": [
    "## Magnitud smoothing"
   ]
  },
  {
   "cell_type": "code",
   "execution_count": 1,
   "metadata": {
    "collapsed": true
   },
   "outputs": [],
   "source": [
    "from pyo import *\n",
    "s = Server()"
   ]
  },
  {
   "cell_type": "code",
   "execution_count": 2,
   "metadata": {
    "collapsed": false
   },
   "outputs": [
    {
     "data": {
      "text/plain": [
       "<pyolib.server.Server at 0x7f60100e8050>"
      ]
     },
     "execution_count": 2,
     "metadata": {},
     "output_type": "execute_result"
    }
   ],
   "source": [
    "s.boot()"
   ]
  },
  {
   "cell_type": "code",
   "execution_count": 3,
   "metadata": {
    "collapsed": false
   },
   "outputs": [
    {
     "data": {
      "text/plain": [
       "<pyolib.server.Server at 0x7f60100e8050>"
      ]
     },
     "execution_count": 3,
     "metadata": {},
     "output_type": "execute_result"
    }
   ],
   "source": [
    "snd = \"wavs/Reich_Music18.wav\"\n",
    "size, olaps = 1024, 4\n",
    "snd = SfPlayer(snd, speed=1.0, loop=True, mul=1.0)\n",
    "fin = FFT(snd, size=size, overlaps=olaps)\n",
    "pol = CarToPol(fin[\"real\"], fin[\"imag\"])\n",
    "vec = Vectral(pol[\"mag\"], framesize=size, overlaps=olaps, up=0.2, down=.01, damp=.01)\n",
    "car = PolToCar(vec, pol[\"ang\"])\n",
    "fout = IFFT(car[\"real\"], car[\"imag\"], size=size, overlaps=olaps).mix(2).out()\n",
    "s.start()"
   ]
  },
  {
   "cell_type": "code",
   "execution_count": null,
   "metadata": {
    "collapsed": true
   },
   "outputs": [],
   "source": [
    "s.stop()\n",
    "s.shutdown()"
   ]
  },
  {
   "cell_type": "markdown",
   "metadata": {},
   "source": [
    "## PV Additive Synth"
   ]
  },
  {
   "cell_type": "code",
   "execution_count": 1,
   "metadata": {
    "collapsed": true
   },
   "outputs": [],
   "source": [
    "from pyo import *\n",
    "s = Server().boot()"
   ]
  },
  {
   "cell_type": "code",
   "execution_count": 18,
   "metadata": {
    "collapsed": true
   },
   "outputs": [],
   "source": [
    "s.start()\n",
    "a = SfPlayer(SNDS_PATH+\"/transparent.aif\", loop=True, mul=0.7)\n",
    "pva = PVAnal(a, size=1024, overlaps=4, wintype=2)\n",
    "pvs = PVAddSynth(pva, pitch=1., num=500, first=10, inc=10).out()"
   ]
  },
  {
   "cell_type": "code",
   "execution_count": 19,
   "metadata": {
    "collapsed": true
   },
   "outputs": [],
   "source": [
    "s.stop()"
   ]
  },
  {
   "cell_type": "markdown",
   "metadata": {
    "collapsed": true
   },
   "source": [
    "## Spectrum vis"
   ]
  },
  {
   "cell_type": "code",
   "execution_count": null,
   "metadata": {
    "collapsed": false
   },
   "outputs": [],
   "source": [
    "from pyo import *\n",
    "s = Server().boot()\n",
    "s.start()\n",
    "a = SuperSaw(freq=[500,750], detune=0.6, bal=0.7, mul=0.5).out()\n",
    "spec = Spectrum(a, size=1024)"
   ]
  },
  {
   "cell_type": "code",
   "execution_count": null,
   "metadata": {
    "collapsed": false
   },
   "outputs": [],
   "source": [
    "s.gui(locals())"
   ]
  }
 ],
 "metadata": {
  "kernelspec": {
   "display_name": "Python 2",
   "language": "python",
   "name": "python2"
  },
  "language_info": {
   "codemirror_mode": {
    "name": "ipython",
    "version": 2
   },
   "file_extension": ".py",
   "mimetype": "text/x-python",
   "name": "python",
   "nbconvert_exporter": "python",
   "pygments_lexer": "ipython2",
   "version": "2.7.6"
  }
 },
 "nbformat": 4,
 "nbformat_minor": 0
}
