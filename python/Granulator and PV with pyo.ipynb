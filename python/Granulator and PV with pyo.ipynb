{
 "cells": [
  {
   "cell_type": "markdown",
   "metadata": {},
   "source": [
    "## Granular example"
   ]
  },
  {
   "cell_type": "code",
   "execution_count": 1,
   "metadata": {
    "collapsed": false
   },
   "outputs": [],
   "source": [
    "from pyo import *\n",
    "s = Server(audio='jack').boot()"
   ]
  },
  {
   "cell_type": "code",
   "execution_count": 2,
   "metadata": {
    "collapsed": false
   },
   "outputs": [],
   "source": [
    "s.start()\n",
    "snd = SndTable(\"../wavs/Reich_Music18.wav\")\n",
    "env = HannTable()\n",
    "pos = Phasor(freq=snd.getRate()*.25, mul=snd.getSize())\n",
    "dur = Noise(mul=.001, add=.1)\n",
    "g = Granulator(snd, env, [1, 1.001], pos, dur, 32, mul=.1).out()"
   ]
  },
  {
   "cell_type": "code",
   "execution_count": null,
   "metadata": {
    "collapsed": true
   },
   "outputs": [],
   "source": [
    "s.gui(locals())"
   ]
  },
  {
   "cell_type": "code",
   "execution_count": 3,
   "metadata": {
    "collapsed": true
   },
   "outputs": [],
   "source": [
    "s.stop()"
   ]
  },
  {
   "cell_type": "markdown",
   "metadata": {},
   "source": [
    "## Midi controller"
   ]
  },
  {
   "cell_type": "code",
   "execution_count": 1,
   "metadata": {
    "collapsed": true
   },
   "outputs": [],
   "source": [
    "from pyo import *"
   ]
  },
  {
   "cell_type": "code",
   "execution_count": 2,
   "metadata": {
    "collapsed": false
   },
   "outputs": [
    {
     "name": "stdout",
     "output_type": "stream",
     "text": [
      "(['Midi Through Port-0', 'SL MkII MIDI 1', 'SL MkII MIDI 2', 'Pure Data Midi-Out 1'], [1, 3, 5, 8])\n"
     ]
    }
   ],
   "source": [
    "names, indexes = pm_get_input_devices()\n",
    "print(names,indexes)"
   ]
  },
  {
   "cell_type": "code",
   "execution_count": 3,
   "metadata": {
    "collapsed": false
   },
   "outputs": [],
   "source": [
    "s = Server(audio='jack')"
   ]
  },
  {
   "cell_type": "code",
   "execution_count": 4,
   "metadata": {
    "collapsed": false
   },
   "outputs": [
    {
     "data": {
      "text/plain": [
       "<pyolib.server.Server at 0x7f2a6b71c690>"
      ]
     },
     "execution_count": 4,
     "metadata": {},
     "output_type": "execute_result"
    }
   ],
   "source": [
    "s.setMidiInputDevice(3) # Must be called before s.boot()\n",
    "s.boot()\n",
    "s.start()"
   ]
  },
  {
   "cell_type": "code",
   "execution_count": 14,
   "metadata": {
    "collapsed": false
   },
   "outputs": [],
   "source": [
    "s.stop()\n",
    "s.start()\n",
    "snd = SndTable(\"../wavs/Teen_Town.wav\")\n",
    "env = HannTable()\n",
    "\n",
    "noin = Notein(poly=1,scale=0)\n",
    "\n",
    "posx = Port( Midictl(ctlnumber=[78], minscale=0, maxscale=snd.getSize()), 0.02)\n",
    "posf = Port( Midictl(ctlnumber=[16], minscale=0, maxscale=snd.getSize()), 0.02)\n",
    "porta = Midictl(ctlnumber=[79], minscale=0., maxscale=60.)\n",
    "\n",
    "\n",
    "posxx = (noin['pitch']-48.)/(96.-48.)*posf+posx\n",
    "pos = SigTo(posxx)\n",
    "\n",
    "def set_ramp_time():\n",
    "    pos.time = porta.get()\n",
    "\n",
    "tf = TrigFunc(Change(porta), function=set_ramp_time)\n",
    "\n",
    "pitch = Port(Midictl(ctlnumber=[17], minscale=0.0, maxscale=2.0),0.02)\n",
    "\n",
    "noisemul = Midictl(ctlnumber=[18], minscale=0.0, maxscale=0.2)\n",
    "\n",
    "noiseadd = Port(Midictl(ctlnumber=[19], minscale=0.0, maxscale=1.0),0.02)\n",
    "\n",
    "dur = Noise(mul=noisemul)+noiseadd\n",
    "\n",
    "g = Granulator(snd, env, pitch*0.1/dur, pos , dur, 16, mul=.3).mix(2).out()"
   ]
  },
  {
   "cell_type": "code",
   "execution_count": 15,
   "metadata": {
    "collapsed": true
   },
   "outputs": [],
   "source": [
    "s.stop()"
   ]
  },
  {
   "cell_type": "code",
   "execution_count": null,
   "metadata": {
    "collapsed": true
   },
   "outputs": [],
   "source": [
    "s.gui(locals())"
   ]
  },
  {
   "cell_type": "markdown",
   "metadata": {},
   "source": [
    "## Magnitud smoothing"
   ]
  },
  {
   "cell_type": "code",
   "execution_count": 1,
   "metadata": {
    "collapsed": true
   },
   "outputs": [],
   "source": [
    "from pyo import *\n",
    "s = Server()"
   ]
  },
  {
   "cell_type": "code",
   "execution_count": 2,
   "metadata": {
    "collapsed": false
   },
   "outputs": [
    {
     "data": {
      "text/plain": [
       "<pyolib.server.Server at 0x7f60100e8050>"
      ]
     },
     "execution_count": 2,
     "metadata": {},
     "output_type": "execute_result"
    }
   ],
   "source": [
    "s.boot()"
   ]
  },
  {
   "cell_type": "code",
   "execution_count": 3,
   "metadata": {
    "collapsed": false
   },
   "outputs": [
    {
     "data": {
      "text/plain": [
       "<pyolib.server.Server at 0x7f60100e8050>"
      ]
     },
     "execution_count": 3,
     "metadata": {},
     "output_type": "execute_result"
    }
   ],
   "source": [
    "snd = \"../wavs/Reich_Music18.wav\"\n",
    "size, olaps = 1024, 4\n",
    "snd = SfPlayer(snd, speed=1.0, loop=True, mul=1.0)\n",
    "fin = FFT(snd, size=size, overlaps=olaps)\n",
    "pol = CarToPol(fin[\"real\"], fin[\"imag\"])\n",
    "vec = Vectral(pol[\"mag\"], framesize=size, overlaps=olaps, up=0.2, down=.01, damp=.01)\n",
    "car = PolToCar(vec, pol[\"ang\"])\n",
    "fout = IFFT(car[\"real\"], car[\"imag\"], size=size, overlaps=olaps).mix(2).out()\n",
    "s.start()"
   ]
  },
  {
   "cell_type": "code",
   "execution_count": null,
   "metadata": {
    "collapsed": true
   },
   "outputs": [],
   "source": [
    "s.stop()\n",
    "s.shutdown()"
   ]
  },
  {
   "cell_type": "markdown",
   "metadata": {},
   "source": [
    "## PV Additive Synth"
   ]
  },
  {
   "cell_type": "code",
   "execution_count": 2,
   "metadata": {
    "collapsed": true
   },
   "outputs": [],
   "source": [
    "from pyo import *\n",
    "s = Server(audio='jack').boot()"
   ]
  },
  {
   "cell_type": "code",
   "execution_count": 9,
   "metadata": {
    "collapsed": false
   },
   "outputs": [],
   "source": [
    "s.start()\n",
    "a = SfPlayer(\"../wavs/Reich_Music18.wav\", loop=True, mul=0.7)\n",
    "pva = PVAnal(a, size=1024, overlaps=4, wintype=2)\n",
    "pvs = PVAddSynth(pva, pitch=1., num=500, first=10, inc=10).mix(2).out()"
   ]
  },
  {
   "cell_type": "code",
   "execution_count": 10,
   "metadata": {
    "collapsed": true
   },
   "outputs": [],
   "source": [
    "s.stop()"
   ]
  },
  {
   "cell_type": "markdown",
   "metadata": {
    "collapsed": true
   },
   "source": [
    "## Spectrum vis"
   ]
  },
  {
   "cell_type": "code",
   "execution_count": null,
   "metadata": {
    "collapsed": false
   },
   "outputs": [],
   "source": [
    "from pyo import *\n",
    "s = Server().boot()\n",
    "s.start()\n",
    "a = SuperSaw(freq=[500,750], detune=0.6, bal=0.7, mul=0.5).out()\n",
    "spec = Spectrum(a, size=1024)"
   ]
  },
  {
   "cell_type": "code",
   "execution_count": null,
   "metadata": {
    "collapsed": false
   },
   "outputs": [],
   "source": [
    "s.gui(locals())"
   ]
  }
 ],
 "metadata": {
  "kernelspec": {
   "display_name": "Python 2",
   "language": "python",
   "name": "python2"
  },
  "language_info": {
   "codemirror_mode": {
    "name": "ipython",
    "version": 2
   },
   "file_extension": ".py",
   "mimetype": "text/x-python",
   "name": "python",
   "nbconvert_exporter": "python",
   "pygments_lexer": "ipython2",
   "version": "2.7.6"
  }
 },
 "nbformat": 4,
 "nbformat_minor": 0
}
